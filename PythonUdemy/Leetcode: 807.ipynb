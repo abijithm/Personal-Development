{
 "cells": [
  {
   "cell_type": "code",
   "execution_count": 3,
   "metadata": {},
   "outputs": [],
   "source": [
    "    def maxIncreaseKeepingSkyline(grid):\n",
    "        row_maxes = [max(row) for row in grid]\n",
    "        col_maxes = [max(col) for col in zip(*grid)]\n",
    "\n",
    "        return sum(min(row_maxes[r], col_maxes[c]) - val\n",
    "                   for r, row in enumerate(grid)\n",
    "                   for c, val in enumerate(row))\n",
    "\n",
    "            "
   ]
  },
  {
   "cell_type": "code",
   "execution_count": 5,
   "metadata": {},
   "outputs": [
    {
     "data": {
      "text/plain": [
       "35"
      ]
     },
     "execution_count": 5,
     "metadata": {},
     "output_type": "execute_result"
    }
   ],
   "source": [
    "grid = [[3,0,8,4],[2,4,5,7],[9,2,6,3],[0,3,1,0]]\n",
    "maxIncreaseKeepingSkyline(grid)"
   ]
  },
  {
   "cell_type": "code",
   "execution_count": null,
   "metadata": {},
   "outputs": [],
   "source": []
  }
 ],
 "metadata": {
  "kernelspec": {
   "display_name": "Python 3",
   "language": "python",
   "name": "python3"
  },
  "language_info": {
   "codemirror_mode": {
    "name": "ipython",
    "version": 3
   },
   "file_extension": ".py",
   "mimetype": "text/x-python",
   "name": "python",
   "nbconvert_exporter": "python",
   "pygments_lexer": "ipython3",
   "version": "3.7.1"
  }
 },
 "nbformat": 4,
 "nbformat_minor": 2
}
