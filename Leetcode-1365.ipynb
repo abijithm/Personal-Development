{
 "cells": [
  {
   "cell_type": "code",
   "execution_count": 104,
   "metadata": {},
   "outputs": [],
   "source": [
    "def smallerNumbersThanCurrent(nums):\n",
    "    temp = sorted(nums)\n",
    "    result = []\n",
    "    mapping = {}\n",
    "    for i in range(len(temp)):\n",
    "        print(mapping)\n",
    "        if temp[i] not in mapping:\n",
    "            mapping[temp[i]] = i\n",
    "            print(temp[i])\n",
    "            print(mapping)\n",
    "            print('\\n')\n",
    "    for i in range(len(nums)):\n",
    "        result.append(mapping[nums[i]])\n",
    "    return mapping"
   ]
  },
  {
   "cell_type": "code",
   "execution_count": 105,
   "metadata": {},
   "outputs": [
    {
     "name": "stdout",
     "output_type": "stream",
     "text": [
      "{}\n",
      "1\n",
      "{1: 0}\n",
      "\n",
      "\n",
      "{1: 0}\n",
      "2\n",
      "{1: 0, 2: 1}\n",
      "\n",
      "\n",
      "{1: 0, 2: 1}\n",
      "{1: 0, 2: 1}\n",
      "3\n",
      "{1: 0, 2: 1, 3: 3}\n",
      "\n",
      "\n",
      "{1: 0, 2: 1, 3: 3}\n",
      "8\n",
      "{1: 0, 2: 1, 3: 3, 8: 4}\n",
      "\n",
      "\n"
     ]
    },
    {
     "data": {
      "text/plain": [
       "{1: 0, 2: 1, 3: 3, 8: 4}"
      ]
     },
     "execution_count": 105,
     "metadata": {},
     "output_type": "execute_result"
    }
   ],
   "source": [
    "nums = [8,1,2,2,3]\n",
    "smallerNumbersThanCurrent(nums)"
   ]
  },
  {
   "cell_type": "code",
   "execution_count": 94,
   "metadata": {},
   "outputs": [
    {
     "data": {
      "text/plain": [
       "{8: 0}"
      ]
     },
     "execution_count": 94,
     "metadata": {},
     "output_type": "execute_result"
    }
   ],
   "source": [
    "d = { i : nums[i] for i in range(0, len(nums) ) }\n",
    "d\n",
    "dic = {}\n",
    "dic[8] = 0\n",
    "dic[1] = 1"
   ]
  },
  {
   "cell_type": "code",
   "execution_count": 57,
   "metadata": {},
   "outputs": [
    {
     "name": "stdout",
     "output_type": "stream",
     "text": [
      "0 8\n",
      "1 1\n",
      "2 2\n",
      "3 2\n",
      "4 3\n"
     ]
    }
   ],
   "source": [
    "for i,num in enumerate(nums):\n",
    "    print(i,num)"
   ]
  },
  {
   "cell_type": "code",
   "execution_count": null,
   "metadata": {},
   "outputs": [],
   "source": []
  }
 ],
 "metadata": {
  "kernelspec": {
   "display_name": "Python 3",
   "language": "python",
   "name": "python3"
  },
  "language_info": {
   "codemirror_mode": {
    "name": "ipython",
    "version": 3
   },
   "file_extension": ".py",
   "mimetype": "text/x-python",
   "name": "python",
   "nbconvert_exporter": "python",
   "pygments_lexer": "ipython3",
   "version": "3.8.0"
  }
 },
 "nbformat": 4,
 "nbformat_minor": 4
}
